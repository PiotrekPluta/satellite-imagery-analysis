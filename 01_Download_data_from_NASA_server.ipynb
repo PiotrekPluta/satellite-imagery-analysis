{
 "cells": [
  {
   "cell_type": "code",
   "execution_count": null,
   "metadata": {},
   "outputs": [],
   "source": [
    "#Zapoznanie się ze strukturą danych aby móc ściągnąć właściwe zdjęcia\n",
    "# lpdaac.usgs.gov/products"
   ]
  },
  {
   "cell_type": "code",
   "execution_count": 3,
   "metadata": {},
   "outputs": [
    {
     "name": "stdout",
     "output_type": "stream",
     "text": [
      "WxPython missing, no GUI enabled\n"
     ]
    }
   ],
   "source": [
    "import pymodis"
   ]
  },
  {
   "cell_type": "code",
   "execution_count": 5,
   "metadata": {},
   "outputs": [],
   "source": [
    "download_object = pymodis.downmodis.downModis(destinationFolder='~/Projects/Projekt_Zaliczeniowy/Time_Series_Analisys_of_Land_Surface_Temp',\n",
    "                                             password='',\n",
    "                                             user='',\n",
    "                                             tiles='h19v03 ',\n",
    "                                             path='https://lpdaac.usgs.gov/products/mod11b3v006/',\n",
    "                                             product='MOD11B3',\n",
    "                                             today='2020-03-08',\n",
    "                                             enddate='2000-01-01')"
   ]
  },
  {
   "cell_type": "code",
   "execution_count": null,
   "metadata": {},
   "outputs": [],
   "source": []
  }
 ],
 "metadata": {
  "kernelspec": {
   "display_name": "Python 3",
   "language": "python",
   "name": "python3"
  },
  "language_info": {
   "codemirror_mode": {
    "name": "ipython",
    "version": 3
   },
   "file_extension": ".py",
   "mimetype": "text/x-python",
   "name": "python",
   "nbconvert_exporter": "python",
   "pygments_lexer": "ipython3",
   "version": "3.6.10"
  }
 },
 "nbformat": 4,
 "nbformat_minor": 4
}
